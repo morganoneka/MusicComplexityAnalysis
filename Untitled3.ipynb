{
 "cells": [
  {
   "cell_type": "markdown",
   "id": "472a49cc-5088-4e30-938c-28381a223849",
   "metadata": {},
   "source": [
    "# Looking at chord progressions\n",
    "\n",
    "In this notebook I'm going to look at chord progressions (overall, not for specific sections or anything)"
   ]
  },
  {
   "cell_type": "code",
   "execution_count": null,
   "id": "fd90dfd3-dfe8-439e-8822-1969008f7ff0",
   "metadata": {},
   "outputs": [],
   "source": []
  }
 ],
 "metadata": {
  "kernelspec": {
   "display_name": "Python 3",
   "language": "python",
   "name": "python3"
  },
  "language_info": {
   "codemirror_mode": {
    "name": "ipython",
    "version": 3
   },
   "file_extension": ".py",
   "mimetype": "text/x-python",
   "name": "python",
   "nbconvert_exporter": "python",
   "pygments_lexer": "ipython3",
   "version": "3.8.8"
  }
 },
 "nbformat": 4,
 "nbformat_minor": 5
}
