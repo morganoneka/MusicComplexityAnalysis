{
 "cells": [
  {
   "cell_type": "markdown",
   "id": "60eec751-c9c0-4355-b588-6f3cdf2ec6be",
   "metadata": {},
   "source": [
    "# Get Lyric Lists\n",
    "In this notebook, we will parse the lyrics for each song from its raw data"
   ]
  },
  {
   "cell_type": "code",
   "execution_count": 1,
   "id": "88cade75-4098-4ffe-b6b1-39e86dcfefbf",
   "metadata": {},
   "outputs": [],
   "source": [
    "import requests\n",
    "from bs4 import BeautifulSoup\n",
    "import re\n",
    "from itertools import chain\n",
    "import json\n",
    "from collections import Counter\n",
    "import os\n",
    "import random\n",
    "import music_functions as mf"
   ]
  },
  {
   "cell_type": "code",
   "execution_count": 25,
   "id": "cf761d1d-caae-457f-9b43-fdb43fd58c10",
   "metadata": {},
   "outputs": [],
   "source": [
    "input_dir = '/Volumes/SECONDDRIVE/prog/ug/raw_data/'\n",
    "output_dir = '/Volumes/SECONDDRIVE/prog/ug/lyric_lists/'"
   ]
  },
  {
   "cell_type": "code",
   "execution_count": 26,
   "id": "06f520b9-12d2-43de-a619-ca2e036846a2",
   "metadata": {},
   "outputs": [],
   "source": [
    "decade_dirs = [f.path for f in os.scandir(input_dir) if f.is_dir() and f.path.split(\"/\")[-1].isnumeric()]"
   ]
  },
  {
   "cell_type": "code",
   "execution_count": null,
   "id": "2ae7feb9-f25e-4789-849d-36ff436411f8",
   "metadata": {},
   "outputs": [],
   "source": [
    "if not os.path.exists(output_dir ):\n",
    "    os.mkdir(output_dir )\n",
    "    \n",
    "for decade_dir in decade_dirs:\n",
    "    \n",
    "    decade = decade_dir.split(\"/\")[-1]\n",
    "    if not os.path.exists(output_dir + decade):\n",
    "        os.mkdir(output_dir + decade)\n",
    "        \n",
    "    filelist = [input_dir+ decade + \"/\" + x for x in os.listdir(input_dir+ decade + \"/\")]\n",
    "\n",
    "    for fname in filelist:    \n",
    "        with open(fname, 'r') as file:\n",
    "            data = file.read().replace('\\n', '')\n",
    "\n",
    "            # convert to beautiful soup object\n",
    "            soup = BeautifulSoup(data, \"html.parser\")\n",
    "            # _2jIGi contains lyric/chord pairs\n",
    "            results = soup.find_all(\"span\", class_=\"_2jIGi\")  \n",
    "            # last one is lyric\n",
    "            lyric_list = [x.find_all(\"span\",\"_3rlxz\")[-1].text for x in results]\n",
    "            outfile=fname.split(\"/\")[-1]\n",
    "            textfile = open(output_dir + decade + \"/\" + outfile, \"w\")\n",
    "            for element in lyric_list:\n",
    "                textfile.write('%s\\n' % element)\n",
    "\n"
   ]
  }
 ],
 "metadata": {
  "kernelspec": {
   "display_name": "Python 3",
   "language": "python",
   "name": "python3"
  },
  "language_info": {
   "codemirror_mode": {
    "name": "ipython",
    "version": 3
   },
   "file_extension": ".py",
   "mimetype": "text/x-python",
   "name": "python",
   "nbconvert_exporter": "python",
   "pygments_lexer": "ipython3",
   "version": "3.8.8"
  }
 },
 "nbformat": 4,
 "nbformat_minor": 5
}
