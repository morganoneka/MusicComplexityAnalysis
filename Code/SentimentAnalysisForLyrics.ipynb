{
 "cells": [
  {
   "cell_type": "markdown",
   "id": "7ce8e8df-dd6a-4462-b1bc-7ceaa8655b7a",
   "metadata": {},
   "source": [
    "# Sentiment Analysis\n",
    "In this notebook, we perform very primitive sentiment analysis on the lyrics for each song in our dataset."
   ]
  },
  {
   "cell_type": "code",
   "execution_count": 97,
   "id": "c87d391f-469c-485c-abc7-6211754a0313",
   "metadata": {},
   "outputs": [],
   "source": [
    "import re\n",
    "from collections import Counter\n",
    "import os\n",
    "import pandas as pd"
   ]
  },
  {
   "cell_type": "code",
   "execution_count": 54,
   "id": "5f2c4e35-00f4-46e3-a2c7-a3e84f4284fa",
   "metadata": {},
   "outputs": [],
   "source": [
    "import nltk\n",
    "from nltk.sentiment.vader import SentimentIntensityAnalyzer\n",
    "from nltk import word_tokenize\n",
    "from nltk.corpus import stopwords"
   ]
  },
  {
   "cell_type": "code",
   "execution_count": 65,
   "id": "bed62ce0-e13c-4c9c-81bc-45c044cb8285",
   "metadata": {},
   "outputs": [],
   "source": [
    "def clean_line(x):\n",
    "    x = ' '.join(x.split())\n",
    "    x = \"\".join(re.sub(r'[^\\w\\s\\']','',x)).lower()\n",
    "    return(x)\n",
    "    "
   ]
  },
  {
   "cell_type": "code",
   "execution_count": null,
   "id": "10fcf6ea-01c4-4251-b43a-f5a66a2f3b14",
   "metadata": {},
   "outputs": [],
   "source": [
    "# https://towardsdatascience.com/how-to-analyze-emotions-and-words-of-the-lyrics-from-your-favorite-music-artist-bbca10411283"
   ]
  },
  {
   "cell_type": "code",
   "execution_count": 79,
   "id": "2df182c4-4eea-4ef9-8854-2dbbbb469e59",
   "metadata": {},
   "outputs": [],
   "source": [
    "input_dir = '/Volumes/SECONDDRIVE/prog/ug/lyric_lists/'\n",
    "decade_dirs = [f.path for f in os.scandir(input_dir) if f.is_dir() and f.path.split(\"/\")[-1].isnumeric()]"
   ]
  },
  {
   "cell_type": "code",
   "execution_count": 101,
   "id": "6642c9ae-a597-451f-a7c4-99a5c4285704",
   "metadata": {},
   "outputs": [
    {
     "name": "stdout",
     "output_type": "stream",
     "text": [
      "1970\n",
      "1980\n",
      "1990\n",
      "2000\n",
      "2010\n"
     ]
    }
   ],
   "source": [
    "sid = SentimentIntensityAnalyzer()\n",
    "song_info = []\n",
    "for decade_dir in decade_dirs:\n",
    "    \n",
    "    decade = decade_dir.split(\"/\")[-1]\n",
    "\n",
    "    print(decade)\n",
    "    filelist = [input_dir+ decade + \"/\" + x for x in os.listdir(input_dir+ decade + \"/\")]\n",
    "\n",
    "    for fname in filelist:    \n",
    "        with open (fname, \"r\") as myfile:\n",
    "            data = [clean_line(x) for x in myfile.readlines()]\n",
    "            data = [x for x in data if len(x) >=3]\n",
    "\n",
    "                   \n",
    "        word_occurrence = Counter(\" \".join(data).split(\" \"))\n",
    "        better_word_occurrence = Counter([x for x in \" \".join(data).split(\" \") if x not in set(stopwords.words('english'))])\n",
    "        info_dict = {\n",
    "            'song': fname.split(\".\")[0].split(\"/\")[-1].split(\"_\")[1].replace(\"-\", \" \"),\n",
    "            'artist': fname.split(\".\")[0].split(\"/\")[-1].split(\"_\")[0].replace(\"-\", \" \"),\n",
    "            'decade': decade,\n",
    "            'total_lines': len(data),\n",
    "            'unique_lines': len(list(set(data))),\n",
    "            'total_words': len(\" \".join(data).split()),\n",
    "            'unique_words': len(\" \".join(list(set(data))).split()),\n",
    "            'top_common_words': \",\".join([x[0] for x in word_occurrence.most_common(10)]),\n",
    "            'top_uncommon_words': \",\".join([x[0] for x in better_word_occurrence.most_common(10)])\n",
    "        }\n",
    "        \n",
    "        info_dict.update(sid.polarity_scores(\" \".join(data)))\n",
    "        song_info.append(info_dict)\n",
    "                   "
   ]
  },
  {
   "cell_type": "code",
   "execution_count": 102,
   "id": "8ea23527-4bf0-43c6-95a1-4416aa4bcd7c",
   "metadata": {},
   "outputs": [],
   "source": [
    "pd.DataFrame.from_dict(song_info).to_csv(\"../Output/lyrics.csv\", index=False)"
   ]
  },
  {
   "cell_type": "code",
   "execution_count": null,
   "id": "0f074e44-80be-4a1e-b248-4b991278332c",
   "metadata": {},
   "outputs": [],
   "source": []
  }
 ],
 "metadata": {
  "kernelspec": {
   "display_name": "Python 3",
   "language": "python",
   "name": "python3"
  },
  "language_info": {
   "codemirror_mode": {
    "name": "ipython",
    "version": 3
   },
   "file_extension": ".py",
   "mimetype": "text/x-python",
   "name": "python",
   "nbconvert_exporter": "python",
   "pygments_lexer": "ipython3",
   "version": "3.8.8"
  }
 },
 "nbformat": 4,
 "nbformat_minor": 5
}
