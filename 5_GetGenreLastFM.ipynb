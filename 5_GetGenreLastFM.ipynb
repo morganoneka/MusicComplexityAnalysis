{
 "cells": [
  {
   "cell_type": "markdown",
   "id": "fbca243e-0cd7-42dd-8096-731dbe461b40",
   "metadata": {},
   "source": [
    "# Aquiring Genre Info from Last.FM\n",
    "\n",
    "We're web scraping because I don't want to sign up for an API if this info is available freely online lmao"
   ]
  },
  {
   "cell_type": "code",
   "execution_count": 2,
   "id": "b6ea39ca-5e5f-48ca-8db2-9c31388da530",
   "metadata": {},
   "outputs": [],
   "source": [
    "import requests\n",
    "from bs4 import BeautifulSoup\n",
    "import os\n",
    "import json"
   ]
  },
  {
   "cell_type": "code",
   "execution_count": 4,
   "id": "e1bda351-9b93-4442-b145-59ad4d213e53",
   "metadata": {},
   "outputs": [
    {
     "name": "stdout",
     "output_type": "stream",
     "text": [
      "/Volumes/SECONDDRIVE/prog/ug/raw_data/1970/\n",
      "/Volumes/SECONDDRIVE/prog/ug/raw_data/1980/\n",
      "/Volumes/SECONDDRIVE/prog/ug/raw_data/1990/\n",
      "/Volumes/SECONDDRIVE/prog/ug/raw_data/2000/\n",
      "/Volumes/SECONDDRIVE/prog/ug/raw_data/2010/\n"
     ]
    }
   ],
   "source": [
    "decades = ['1970', '1980', '1990', '2000', '2010']\n",
    "\n",
    "for decade in decades:\n",
    "\n",
    "    input_dir = \"/Volumes/SECONDDRIVE/prog/ug/raw_data/\" + decade + \"/\"\n",
    "    print(input_dir)\n",
    "    file_list = [input_dir + x for x in os.listdir(input_dir)]\n",
    "\n",
    "    song_to_genre_dict = {}\n",
    "\n",
    "    for fname in file_list:\n",
    "\n",
    "        fname_title = fname.split(\"/\")[-1].split(\".\")[0]\n",
    "\n",
    "\n",
    "        band = fname_title.split(\"_\")[0].replace(\"-\", \"+\")\n",
    "        title = fname_title.split(\"_\")[1].replace(\"-\", \"+\")\n",
    "\n",
    "        url=\"https://www.last.fm/music/\" + band + \"/_/\" + title\n",
    "\n",
    "        r = requests.get(url)\n",
    "        # r.text\n",
    "\n",
    "        soup = BeautifulSoup(r.text, \"html.parser\")\n",
    "\n",
    "        genre_list = [x.find_all(\"a\")[0].text for x in soup.find_all(\"div\", class_=\"page-content\")[0].find_all(\"li\", class_=\"tag\")]\n",
    "\n",
    "        song_to_genre_dict[fname_title] = genre_list\n",
    "\n",
    "        # outname=\"GenreOutput/2010_4.json\"\n",
    "    outname=\"Output/Genre/\" + decade  + \".json\"\n",
    "    with open(outname, 'w') as outfile:\n",
    "        json.dump(song_to_genre_dict, outfile)"
   ]
  },
  {
   "cell_type": "code",
   "execution_count": null,
   "id": "7f3dee8a-568e-4ea4-aa65-1f8d2753657e",
   "metadata": {},
   "outputs": [],
   "source": []
  }
 ],
 "metadata": {
  "kernelspec": {
   "display_name": "Python 3",
   "language": "python",
   "name": "python3"
  },
  "language_info": {
   "codemirror_mode": {
    "name": "ipython",
    "version": 3
   },
   "file_extension": ".py",
   "mimetype": "text/x-python",
   "name": "python",
   "nbconvert_exporter": "python",
   "pygments_lexer": "ipython3",
   "version": "3.8.8"
  }
 },
 "nbformat": 4,
 "nbformat_minor": 5
}
