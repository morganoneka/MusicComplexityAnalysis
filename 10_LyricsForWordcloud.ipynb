{
 "cells": [
  {
   "cell_type": "markdown",
   "id": "38ba1b69-bf9d-4620-a220-697a66481bcd",
   "metadata": {},
   "source": [
    "# Cleaning up lyrics for wordcloud\n",
    "I want to do as little work in JavaScript as possible"
   ]
  },
  {
   "cell_type": "code",
   "execution_count": 2,
   "id": "fa01776d-2e3a-49f6-ad9e-15f79a9c7b83",
   "metadata": {},
   "outputs": [],
   "source": [
    "!cat /Volumes/SECONDDRIVE/prog/ug/lyric_lists/1970/*.txt > /Volumes/SECONDDRIVE/prog/ug/lyric_lists/1970s.txt\n",
    "!cat /Volumes/SECONDDRIVE/prog/ug/lyric_lists/1980/*.txt > /Volumes/SECONDDRIVE/prog/ug/lyric_lists/1980s.txt\n",
    "!cat /Volumes/SECONDDRIVE/prog/ug/lyric_lists/1990/*.txt > /Volumes/SECONDDRIVE/prog/ug/lyric_lists/1990s.txt\n",
    "!cat /Volumes/SECONDDRIVE/prog/ug/lyric_lists/2000/*.txt > /Volumes/SECONDDRIVE/prog/ug/lyric_lists/2000s.txt\n",
    "!cat /Volumes/SECONDDRIVE/prog/ug/lyric_lists/2010/*.txt > /Volumes/SECONDDRIVE/prog/ug/lyric_lists/2010s.txt"
   ]
  },
  {
   "cell_type": "code",
   "execution_count": 3,
   "id": "b692dc5c-dcf8-4c50-ba57-233df3ba9774",
   "metadata": {},
   "outputs": [],
   "source": [
    "f = open(\"/Volumes/SECONDDRIVE/prog/ug/lyric_lists/1970s.txt\", \"r\").readlines()"
   ]
  },
  {
   "cell_type": "code",
   "execution_count": 8,
   "id": "44e69d93-89bf-411f-bf57-854c65661e99",
   "metadata": {},
   "outputs": [
    {
     "data": {
      "text/plain": [
       "['A        X02220  (or 577655)\\n',\n",
       " 'B7       X24242  (or 575655)\\n',\n",
       " \"I'm not in love, so don't forget it,\\n\",\n",
       " \"It's just a silly phase I'm going through.\\n\",\n",
       " '\\u2028And just because I call you up,\\n',\n",
       " \"\\u2028Don't get me wrong, don't think you've got it made.\\n\",\n",
       " \"I'm not in love, no-no.\\n\",\n",
       " \"(It's because).\\n\",\n",
       " 'I like to see you, but then again,\\n',\n",
       " \"That doesn't mean you mean that much to me.\\n\"]"
      ]
     },
     "execution_count": 8,
     "metadata": {},
     "output_type": "execute_result"
    }
   ],
   "source": [
    "f[:10]"
   ]
  },
  {
   "cell_type": "code",
   "execution_count": 10,
   "id": "01a2349f-f975-4ef2-8e8a-b6ba79ea0aed",
   "metadata": {},
   "outputs": [
    {
     "data": {
      "text/plain": [
       "['a or',\n",
       " 'or',\n",
       " \"i'm not in love so don't forget it\",\n",
       " \"it's just a silly phase i'm going through\",\n",
       " 'and just because i call you up',\n",
       " \"don't get me wrong don't think you've got it made\",\n",
       " \"i'm not in love nono\",\n",
       " \"it's because\",\n",
       " 'i like to see you but then again',\n",
       " \"that doesn't mean you mean that much to me\"]"
      ]
     },
     "execution_count": 10,
     "metadata": {},
     "output_type": "execute_result"
    }
   ],
   "source": [
    "punc = '''!()-[]{};:\\,<>./?@#$%^&*_~'''\n",
    "from wordcloud import STOPWORDS\n",
    "stopwords = set(STOPWORDS)\n",
    "\n",
    "\n",
    "def contains_number(value):\n",
    "    return( any([c.isdigit() for c in value]))\n",
    "\n",
    "def clean_line(line):\n",
    "    for ele in punc:\n",
    "        line = line.replace(ele, \"\")\n",
    "        \n",
    "    line = \" \".join([x for x in line.split() if not contains_number(x)])\n",
    "    return(line.lower().strip())\n",
    "\n",
    "[clean_line(x) for x in f[:10]]"
   ]
  },
  {
   "cell_type": "code",
   "execution_count": 14,
   "id": "7f758812-7c3b-4782-b539-e2922940012b",
   "metadata": {},
   "outputs": [],
   "source": [
    "for decade in ['1970', '1980', '1990', '2000', '2010']:\n",
    "    f = open(\"/Volumes/SECONDDRIVE/prog/ug/lyric_lists/\"+decade+\"s.txt\", \"r\").readlines()\n",
    "    f = [clean_line(x) for x in f]\n",
    "    with open(\"/Users/morganoneka/Documents/PersonalProjects/UltimateGuitarAnalysis/Output/Lyrics/\" + decade + \".txt\" ,\"w\") as outfile:\n",
    "        for item in f:\n",
    "            outfile.write(\"%s\\n\" % item)"
   ]
  },
  {
   "cell_type": "code",
   "execution_count": null,
   "id": "995aefed-a20f-4c5b-97fe-3e78972cd82a",
   "metadata": {},
   "outputs": [],
   "source": []
  }
 ],
 "metadata": {
  "kernelspec": {
   "display_name": "Python 3",
   "language": "python",
   "name": "python3"
  },
  "language_info": {
   "codemirror_mode": {
    "name": "ipython",
    "version": 3
   },
   "file_extension": ".py",
   "mimetype": "text/x-python",
   "name": "python",
   "nbconvert_exporter": "python",
   "pygments_lexer": "ipython3",
   "version": "3.8.8"
  }
 },
 "nbformat": 4,
 "nbformat_minor": 5
}
