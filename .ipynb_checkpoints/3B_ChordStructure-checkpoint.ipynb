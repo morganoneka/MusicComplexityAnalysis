{
 "cells": [
  {
   "cell_type": "markdown",
   "id": "472a49cc-5088-4e30-938c-28381a223849",
   "metadata": {},
   "source": [
    "# Looking at chord progressions\n",
    "\n",
    "In this notebook I'm going to look at chord progressions (overall, not for specific sections or anything)"
   ]
  },
  {
   "cell_type": "code",
   "execution_count": 1,
   "id": "fd90dfd3-dfe8-439e-8822-1969008f7ff0",
   "metadata": {},
   "outputs": [],
   "source": [
    "import re\n",
    "from itertools import chain\n",
    "import json\n",
    "import os\n",
    "from itertools import chain\n",
    "import pandas as pd\n",
    "import music_functions as mf"
   ]
  },
  {
   "cell_type": "code",
   "execution_count": 38,
   "id": "249372c2-2da9-470e-9eb1-c453665eee0c",
   "metadata": {},
   "outputs": [],
   "source": [
    "input_dir = \"/Volumes/SECONDDRIVE/prog/ug/chord_dicts/\"\n",
    "\n",
    "for decade in ['1970', '1980', '1990', '2000', '2010']:\n",
    "    # read in the structure dictionary\n",
    "    decade_dir = input_dir + decade + \"/\"\n",
    "    structure_dict = mf.get_chord_structure_dict([decade_dir + \"/\" + x for x in os.listdir(decade_dir)])\n",
    "    \n",
    "    # read in the distribution stats (to know what section labels to use)\n",
    "    structure_vocab = pd.read_csv(\"Output/SongStructure/\"+ decade + \"_song_structure.csv\")\n",
    "    labels = [key for key in structure_vocab.iloc[:,0].values]\n",
    "    labels.remove(\"StartOfSong\")\n",
    "    \n",
    "    for label in labels:\n",
    "        structure_df = pd.DataFrame.from_dict(mf.clean_structure_dict(structure_dict[label], 10)).fillna(0)\n",
    "\n",
    "        for col in structure_df.columns:\n",
    "            structure_df[col] = structure_df[col]/sum(structure_df[col])\n",
    "\n",
    "        structure_df = structure_df.transpose()\n",
    "        \n",
    "        structure_df.to_csv(\"Output/SectionStructure/\" + decade + \"_\" + label + \".csv\")"
   ]
  },
  {
   "cell_type": "code",
   "execution_count": 30,
   "id": "bf52722a-b132-4dbf-a6d4-cb60019023f2",
   "metadata": {},
   "outputs": [],
   "source": []
  },
  {
   "cell_type": "code",
   "execution_count": null,
   "id": "13d263b2-c721-46ee-9692-55167cb160bb",
   "metadata": {},
   "outputs": [],
   "source": []
  }
 ],
 "metadata": {
  "kernelspec": {
   "display_name": "Python 3",
   "language": "python",
   "name": "python3"
  },
  "language_info": {
   "codemirror_mode": {
    "name": "ipython",
    "version": 3
   },
   "file_extension": ".py",
   "mimetype": "text/x-python",
   "name": "python",
   "nbconvert_exporter": "python",
   "pygments_lexer": "ipython3",
   "version": "3.8.8"
  }
 },
 "nbformat": 4,
 "nbformat_minor": 5
}
