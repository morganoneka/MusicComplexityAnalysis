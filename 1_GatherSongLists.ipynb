{
 "cells": [
  {
   "cell_type": "markdown",
   "id": "89e37351-8d61-41ca-9c57-136d594b5c1f",
   "metadata": {},
   "source": [
    "# Getting song lists by year and genre"
   ]
  },
  {
   "cell_type": "code",
   "execution_count": 2,
   "id": "b9097896-772a-4052-9b14-f2076929b5f5",
   "metadata": {},
   "outputs": [],
   "source": [
    "from selenium import webdriver\n",
    "from selenium.webdriver.common.keys import Keys\n",
    "from selenium.webdriver.firefox.firefox_binary import FirefoxBinary\n",
    "from selenium.common.exceptions import NoSuchElementException\n",
    "import time\n",
    "from datetime import datetime\n",
    "from selenium import webdriver\n",
    "import requests\n",
    "from bs4 import BeautifulSoup\n",
    "from itertools import chain\n",
    "import os"
   ]
  },
  {
   "cell_type": "markdown",
   "id": "0a1cc3d4-6d1c-449a-85fb-23833c084b3d",
   "metadata": {},
   "source": [
    "Setting up the driver"
   ]
  },
  {
   "cell_type": "code",
   "execution_count": 36,
   "id": "59df4363-bcd0-4f29-b2ed-3c6bf11469c4",
   "metadata": {},
   "outputs": [],
   "source": [
    "driver = webdriver.Firefox(executable_path=r'/Users/morganoneka/Documents/PersonalProjects/geckodriver')"
   ]
  },
  {
   "cell_type": "code",
   "execution_count": 37,
   "id": "01e6cea6-b0db-4c97-b53a-3d74cba8725a",
   "metadata": {},
   "outputs": [],
   "source": [
    "output_dir = \"/Volumes/SECONDDRIVE/prog/ug/\"\n",
    "\n",
    "decades = ['1970', '1980', '1990', '2000', '2010', '2020']\n",
    "# rock, pop, folk, electronic, and metal\n",
    "# genres = [4, 14, 666, 16, 8]\n",
    "genres = ['4', '14']"
   ]
  },
  {
   "cell_type": "code",
   "execution_count": 40,
   "id": "1ade696b-59bc-4fc1-8758-219a233793e0",
   "metadata": {},
   "outputs": [
    {
     "name": "stdout",
     "output_type": "stream",
     "text": [
      "next\n",
      "next\n",
      "next\n",
      "next\n",
      "next\n",
      "next\n",
      "2000 4 1\n",
      "https://www.ultimate-guitar.com/explore?decade[]=2000&genres[]=4&part[]=&type[]=Chords&page=1\n",
      "2000 4 2\n",
      "https://www.ultimate-guitar.com/explore?decade[]=2000&genres[]=4&part[]=&type[]=Chords&page=2\n",
      "2000 4 3\n",
      "https://www.ultimate-guitar.com/explore?decade[]=2000&genres[]=4&part[]=&type[]=Chords&page=3\n",
      "2000 4 4\n",
      "https://www.ultimate-guitar.com/explore?decade[]=2000&genres[]=4&part[]=&type[]=Chords&page=4\n",
      "2000 4 5\n",
      "https://www.ultimate-guitar.com/explore?decade[]=2000&genres[]=4&part[]=&type[]=Chords&page=5\n"
     ]
    },
    {
     "ename": "TimeoutException",
     "evalue": "Message: TimedPromise timed out after 300000 ms\n",
     "output_type": "error",
     "traceback": [
      "\u001b[0;31m---------------------------------------------------------------------------\u001b[0m",
      "\u001b[0;31mTimeoutException\u001b[0m                          Traceback (most recent call last)",
      "\u001b[0;32m<ipython-input-40-a6a5c4965019>\u001b[0m in \u001b[0;36m<module>\u001b[0;34m\u001b[0m\n\u001b[1;32m     27\u001b[0m \u001b[0;34m\u001b[0m\u001b[0m\n\u001b[1;32m     28\u001b[0m                 \u001b[0;32mfor\u001b[0m \u001b[0mlink\u001b[0m \u001b[0;32min\u001b[0m \u001b[0mlinks\u001b[0m\u001b[0;34m:\u001b[0m\u001b[0;34m\u001b[0m\u001b[0;34m\u001b[0m\u001b[0m\n\u001b[0;32m---> 29\u001b[0;31m                     \u001b[0mdriver\u001b[0m\u001b[0;34m.\u001b[0m\u001b[0mget\u001b[0m\u001b[0;34m(\u001b[0m\u001b[0mlink\u001b[0m\u001b[0;34m)\u001b[0m\u001b[0;34m\u001b[0m\u001b[0;34m\u001b[0m\u001b[0m\n\u001b[0m\u001b[1;32m     30\u001b[0m     \u001b[0;31m#                 print(link)\u001b[0m\u001b[0;34m\u001b[0m\u001b[0;34m\u001b[0m\u001b[0;34m\u001b[0m\u001b[0m\n\u001b[1;32m     31\u001b[0m                     \u001b[0mhtml\u001b[0m \u001b[0;34m=\u001b[0m \u001b[0mdriver\u001b[0m\u001b[0;34m.\u001b[0m\u001b[0mpage_source\u001b[0m\u001b[0;34m\u001b[0m\u001b[0;34m\u001b[0m\u001b[0m\n",
      "\u001b[0;32m~/opt/anaconda3/lib/python3.8/site-packages/selenium/webdriver/remote/webdriver.py\u001b[0m in \u001b[0;36mget\u001b[0;34m(self, url)\u001b[0m\n\u001b[1;32m    331\u001b[0m         \u001b[0mLoads\u001b[0m \u001b[0ma\u001b[0m \u001b[0mweb\u001b[0m \u001b[0mpage\u001b[0m \u001b[0;32min\u001b[0m \u001b[0mthe\u001b[0m \u001b[0mcurrent\u001b[0m \u001b[0mbrowser\u001b[0m \u001b[0msession\u001b[0m\u001b[0;34m.\u001b[0m\u001b[0;34m\u001b[0m\u001b[0;34m\u001b[0m\u001b[0m\n\u001b[1;32m    332\u001b[0m         \"\"\"\n\u001b[0;32m--> 333\u001b[0;31m         \u001b[0mself\u001b[0m\u001b[0;34m.\u001b[0m\u001b[0mexecute\u001b[0m\u001b[0;34m(\u001b[0m\u001b[0mCommand\u001b[0m\u001b[0;34m.\u001b[0m\u001b[0mGET\u001b[0m\u001b[0;34m,\u001b[0m \u001b[0;34m{\u001b[0m\u001b[0;34m'url'\u001b[0m\u001b[0;34m:\u001b[0m \u001b[0murl\u001b[0m\u001b[0;34m}\u001b[0m\u001b[0;34m)\u001b[0m\u001b[0;34m\u001b[0m\u001b[0;34m\u001b[0m\u001b[0m\n\u001b[0m\u001b[1;32m    334\u001b[0m \u001b[0;34m\u001b[0m\u001b[0m\n\u001b[1;32m    335\u001b[0m     \u001b[0;34m@\u001b[0m\u001b[0mproperty\u001b[0m\u001b[0;34m\u001b[0m\u001b[0;34m\u001b[0m\u001b[0m\n",
      "\u001b[0;32m~/opt/anaconda3/lib/python3.8/site-packages/selenium/webdriver/remote/webdriver.py\u001b[0m in \u001b[0;36mexecute\u001b[0;34m(self, driver_command, params)\u001b[0m\n\u001b[1;32m    319\u001b[0m         \u001b[0mresponse\u001b[0m \u001b[0;34m=\u001b[0m \u001b[0mself\u001b[0m\u001b[0;34m.\u001b[0m\u001b[0mcommand_executor\u001b[0m\u001b[0;34m.\u001b[0m\u001b[0mexecute\u001b[0m\u001b[0;34m(\u001b[0m\u001b[0mdriver_command\u001b[0m\u001b[0;34m,\u001b[0m \u001b[0mparams\u001b[0m\u001b[0;34m)\u001b[0m\u001b[0;34m\u001b[0m\u001b[0;34m\u001b[0m\u001b[0m\n\u001b[1;32m    320\u001b[0m         \u001b[0;32mif\u001b[0m \u001b[0mresponse\u001b[0m\u001b[0;34m:\u001b[0m\u001b[0;34m\u001b[0m\u001b[0;34m\u001b[0m\u001b[0m\n\u001b[0;32m--> 321\u001b[0;31m             \u001b[0mself\u001b[0m\u001b[0;34m.\u001b[0m\u001b[0merror_handler\u001b[0m\u001b[0;34m.\u001b[0m\u001b[0mcheck_response\u001b[0m\u001b[0;34m(\u001b[0m\u001b[0mresponse\u001b[0m\u001b[0;34m)\u001b[0m\u001b[0;34m\u001b[0m\u001b[0;34m\u001b[0m\u001b[0m\n\u001b[0m\u001b[1;32m    322\u001b[0m             response['value'] = self._unwrap_value(\n\u001b[1;32m    323\u001b[0m                 response.get('value', None))\n",
      "\u001b[0;32m~/opt/anaconda3/lib/python3.8/site-packages/selenium/webdriver/remote/errorhandler.py\u001b[0m in \u001b[0;36mcheck_response\u001b[0;34m(self, response)\u001b[0m\n\u001b[1;32m    240\u001b[0m                 \u001b[0malert_text\u001b[0m \u001b[0;34m=\u001b[0m \u001b[0mvalue\u001b[0m\u001b[0;34m[\u001b[0m\u001b[0;34m'alert'\u001b[0m\u001b[0;34m]\u001b[0m\u001b[0;34m.\u001b[0m\u001b[0mget\u001b[0m\u001b[0;34m(\u001b[0m\u001b[0;34m'text'\u001b[0m\u001b[0;34m)\u001b[0m\u001b[0;34m\u001b[0m\u001b[0;34m\u001b[0m\u001b[0m\n\u001b[1;32m    241\u001b[0m             \u001b[0;32mraise\u001b[0m \u001b[0mexception_class\u001b[0m\u001b[0;34m(\u001b[0m\u001b[0mmessage\u001b[0m\u001b[0;34m,\u001b[0m \u001b[0mscreen\u001b[0m\u001b[0;34m,\u001b[0m \u001b[0mstacktrace\u001b[0m\u001b[0;34m,\u001b[0m \u001b[0malert_text\u001b[0m\u001b[0;34m)\u001b[0m\u001b[0;34m\u001b[0m\u001b[0;34m\u001b[0m\u001b[0m\n\u001b[0;32m--> 242\u001b[0;31m         \u001b[0;32mraise\u001b[0m \u001b[0mexception_class\u001b[0m\u001b[0;34m(\u001b[0m\u001b[0mmessage\u001b[0m\u001b[0;34m,\u001b[0m \u001b[0mscreen\u001b[0m\u001b[0;34m,\u001b[0m \u001b[0mstacktrace\u001b[0m\u001b[0;34m)\u001b[0m\u001b[0;34m\u001b[0m\u001b[0;34m\u001b[0m\u001b[0m\n\u001b[0m\u001b[1;32m    243\u001b[0m \u001b[0;34m\u001b[0m\u001b[0m\n\u001b[1;32m    244\u001b[0m     \u001b[0;32mdef\u001b[0m \u001b[0m_value_or_default\u001b[0m\u001b[0;34m(\u001b[0m\u001b[0mself\u001b[0m\u001b[0;34m,\u001b[0m \u001b[0mobj\u001b[0m\u001b[0;34m,\u001b[0m \u001b[0mkey\u001b[0m\u001b[0;34m,\u001b[0m \u001b[0mdefault\u001b[0m\u001b[0;34m)\u001b[0m\u001b[0;34m:\u001b[0m\u001b[0;34m\u001b[0m\u001b[0;34m\u001b[0m\u001b[0m\n",
      "\u001b[0;31mTimeoutException\u001b[0m: Message: TimedPromise timed out after 300000 ms\n"
     ]
    }
   ],
   "source": [
    "for decade in decades:\n",
    "    if not os.path.exists(output_dir + decade):\n",
    "        os.mkdir(output_dir + decade)\n",
    "    for genre in genres:\n",
    "        # make directory if it doesn't already exist\n",
    "        if not os.path.exists(output_dir + decade + \"/\" + genre):\n",
    "            os.mkdir(output_dir + decade + \"/\" + genre)\n",
    "            \n",
    "            for page in range(1,6):\n",
    "                print (decade + \" \" + genre + \" \" + str(page))\n",
    "                # url for each decade/genre plus page\n",
    "                url = \"https://www.ultimate-guitar.com/explore?decade[]=\" + decade + \"&genres[]=\" + genre + \"&part[]=&type[]=Chords&page=\" + str(page)\n",
    "\n",
    "                print(url)\n",
    "                # get html using driver\n",
    "                driver.get(url)\n",
    "\n",
    "                # TODO need some kind of check in case there aren't that many pages\n",
    "\n",
    "                html = driver.page_source\n",
    "                soup = BeautifulSoup(html, \"html.parser\")\n",
    "\n",
    "                # get urls\n",
    "                song_list = soup.find_all(\"div\", class_=\"_2vvgp\")\n",
    "                song_spans = [x.find_all(\"a\") for x in song_list]\n",
    "                links = [x['href'] for x in list(chain.from_iterable(song_spans))]\n",
    "\n",
    "                for link in links:\n",
    "                    driver.get(link)\n",
    "    #                 print(link)\n",
    "                    html = driver.page_source\n",
    "                    artist = link.split(\"/\")[4]\n",
    "                    song = link.split(\"/\")[5].split(\"-chords\")[0]\n",
    "                    output_file_name = output_dir + decade + \"/\" + genre + \"/\" + artist + \"_\" + song + \".txt\"\n",
    "                    with open(output_file_name, \"w\") as text_file:\n",
    "                        text_file.write(html)\n",
    "        else:\n",
    "            print(\"next\")\n",
    "        \n",
    "                "
   ]
  },
  {
   "cell_type": "code",
   "execution_count": null,
   "id": "c3b7476c-5d5d-4d54-85f8-970a71a3b187",
   "metadata": {},
   "outputs": [],
   "source": []
  }
 ],
 "metadata": {
  "kernelspec": {
   "display_name": "Python 3",
   "language": "python",
   "name": "python3"
  },
  "language_info": {
   "codemirror_mode": {
    "name": "ipython",
    "version": 3
   },
   "file_extension": ".py",
   "mimetype": "text/x-python",
   "name": "python",
   "nbconvert_exporter": "python",
   "pygments_lexer": "ipython3",
   "version": "3.8.8"
  }
 },
 "nbformat": 4,
 "nbformat_minor": 5
}
