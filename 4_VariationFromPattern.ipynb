{
 "cells": [
  {
   "cell_type": "markdown",
   "id": "50e8a658-062d-4987-992e-946f00c02b44",
   "metadata": {},
   "source": [
    "# Variation from a pattern\n",
    "In this notebook we'll see how songs vary from the typical song structure (Verse Chorus Verse Chorus Bridge Chorus) and chord progression (I V vi IV).\n",
    "\n",
    "Output for each song as it pertains to structural variation:\n",
    "1. A score dictating how similar the structure is to the standard structure\n",
    "\n",
    "Output for each song as it pertains to chord progression\n",
    "1. How many times the progression occurs\n",
    "2. How much of the song is made up of this progression"
   ]
  },
  {
   "cell_type": "code",
   "execution_count": 1,
   "id": "5f4cc496-c995-414c-b6a2-c5861df1fd6d",
   "metadata": {},
   "outputs": [],
   "source": [
    "from collections import Counter\n",
    "import numpy as np\n",
    "import re\n",
    "from itertools import chain\n",
    "import json\n",
    "import os\n",
    "from itertools import chain\n",
    "import pandas as pd\n",
    "import music_functions as mf"
   ]
  },
  {
   "cell_type": "code",
   "execution_count": 2,
   "id": "553d9d32-c6ea-4af2-a447-b21faddc08ff",
   "metadata": {},
   "outputs": [],
   "source": [
    "def structure_score(template_structure, structure):\n",
    "    # template_structure and structure are lists\n",
    "    \n",
    "    actual_in_template = [x for x in structure if x in template_structure]\n",
    "    actual_not_in_template = [x for x in structure if x not in template_structure]\n",
    "    diffs = Counter(template_structure) - Counter(actual_in_template)\n",
    "    diff_count = sum(np.abs(list(diffs.values())))\n",
    "    \n",
    "    return(len(actual_not_in_template) + diff_count)"
   ]
  },
  {
   "cell_type": "code",
   "execution_count": 3,
   "id": "c4570379-f22a-469e-b84f-31b1a4b6aab5",
   "metadata": {},
   "outputs": [],
   "source": [
    "# This script looks for a pattern within a text WITH repeats allowed, i.e. I V V vi IV counts as I V vi IV\n",
    "# essentially: (I)+(V)+(vi)+(IV)+ but it's a list not a string\n",
    "def variation_with_repeats(pattern, actual):\n",
    "    # pattern is a list\n",
    "    \n",
    "    # first, condense repeats\n",
    "    actual_no_repeats = [actual[0]] + [actual[x] for x in range(1,len(actual)) if actual[x] != actual[x-1]]\n",
    "\n",
    "    # count number in pattern\n",
    "    occurrences = ' '.join(actual_no_repeats).count(' '.join(pattern))\n",
    "    \n",
    "    # so rethink this proportion... it's proportion of chords without repeats\n",
    "    # i think that makes sense because repeats are like... why did the person include that lmao\n",
    "    prop_in_pattern = len(pattern)*occurrences / len(actual_no_repeats)\n",
    "    return(prop_in_pattern)\n",
    "    "
   ]
  },
  {
   "cell_type": "code",
   "execution_count": 4,
   "id": "a235e9fe-de71-40dc-ba95-2aa0341e8811",
   "metadata": {},
   "outputs": [
    {
     "name": "stdout",
     "output_type": "stream",
     "text": [
      "3\n"
     ]
    }
   ],
   "source": [
    "template_structure = ['Verse', 'Chorus', 'Verse', 'Chorus', 'Bridge', 'Chorus']\n",
    "structure = ['Intro', 'Verse', 'Chorus', 'Verse', 'Chorus', 'Bridge', 'Solo', 'Chorus', 'Outro']\n",
    "\n",
    "print(structure_score(template_structure, structure))"
   ]
  },
  {
   "cell_type": "code",
   "execution_count": 5,
   "id": "c4f83ec1-4ef7-48a6-bbf3-1b173615829e",
   "metadata": {},
   "outputs": [
    {
     "name": "stdout",
     "output_type": "stream",
     "text": [
      "8\n"
     ]
    }
   ],
   "source": [
    "structure = ['Intro', 'Outro' ]\n",
    "\n",
    "print(structure_score(template_structure, structure))"
   ]
  },
  {
   "cell_type": "code",
   "execution_count": 6,
   "id": "df26896f-15ab-448a-9f21-e635f3cbd58b",
   "metadata": {},
   "outputs": [
    {
     "name": "stdout",
     "output_type": "stream",
     "text": [
      "0.7272727272727273\n"
     ]
    }
   ],
   "source": [
    "pattern = ['I', 'V', \"vi\", 'IV']\n",
    "actual = ['I', 'I', 'I', 'V', \"vi\", 'IV', 'iii', 'I', 'iii', 'I', 'I', 'V', \"vi\", 'IV']\n",
    "\n",
    "print(variation_with_repeats(pattern, actual))"
   ]
  },
  {
   "cell_type": "code",
   "execution_count": 7,
   "id": "e70f0692-0774-4bc3-a9e7-411d6c8bef08",
   "metadata": {},
   "outputs": [],
   "source": [
    "input_dir = \"/Volumes/SECONDDRIVE/prog/ug/chord_dicts/2000/4/\"\n",
    "[input_dir + x for x in os.listdir(input_dir)][0]"
   ]
  },
  {
   "cell_type": "code",
   "execution_count": 9,
   "id": "f544b97c-e341-4b3a-9330-1cc3bf1dff86",
   "metadata": {},
   "outputs": [],
   "source": [
    "def get_structure_list(fname):\n",
    "    with open(fname) as json_file:\n",
    "        data = json.load(json_file)\n",
    "    \n",
    "    structure_order = []\n",
    "    \n",
    "    for key in data:\n",
    "        section = mf.clean_region(data[key]['type'][1:-1])\n",
    "        structure_order.append(section)\n",
    "        \n",
    "    return(structure_order)\n",
    "    "
   ]
  },
  {
   "cell_type": "code",
   "execution_count": 12,
   "id": "6a8ebb9c-22e2-4bcf-8721-fbc3cd1aa76b",
   "metadata": {},
   "outputs": [],
   "source": [
    "structure_list = [get_structure_list(y) for y in [input_dir + x for x in os.listdir(input_dir)]]"
   ]
  },
  {
   "cell_type": "code",
   "execution_count": 16,
   "id": "5afd6e13-202b-4dd9-9835-341d23a1b4bb",
   "metadata": {},
   "outputs": [],
   "source": [
    "scores = [structure_score(template_structure, x) for x in structure_list]"
   ]
  },
  {
   "cell_type": "code",
   "execution_count": 17,
   "id": "98a73b6a-3b85-4319-91a2-39c0ece34e21",
   "metadata": {},
   "outputs": [
    {
     "data": {
      "text/plain": [
       "[15,\n",
       " 18,\n",
       " 14,\n",
       " 23,\n",
       " 14,\n",
       " 17,\n",
       " 13,\n",
       " 15,\n",
       " 15,\n",
       " 13,\n",
       " 13,\n",
       " 11,\n",
       " 16,\n",
       " 12,\n",
       " 16,\n",
       " 16,\n",
       " 17,\n",
       " 15,\n",
       " 14,\n",
       " 11,\n",
       " 16,\n",
       " 18,\n",
       " 13,\n",
       " 23,\n",
       " 15,\n",
       " 17,\n",
       " 17,\n",
       " 17,\n",
       " 16,\n",
       " 15,\n",
       " 10,\n",
       " 9,\n",
       " 16,\n",
       " 19,\n",
       " 14,\n",
       " 15,\n",
       " 14,\n",
       " 17,\n",
       " 15,\n",
       " 12,\n",
       " 10,\n",
       " 13,\n",
       " 17,\n",
       " 18,\n",
       " 18,\n",
       " 17,\n",
       " 15,\n",
       " 15,\n",
       " 13,\n",
       " 13,\n",
       " 17,\n",
       " 15,\n",
       " 12,\n",
       " 15,\n",
       " 12,\n",
       " 15,\n",
       " 14,\n",
       " 10,\n",
       " 16,\n",
       " 14,\n",
       " 14,\n",
       " 14,\n",
       " 15,\n",
       " 15,\n",
       " 15,\n",
       " 14,\n",
       " 15,\n",
       " 13,\n",
       " 16,\n",
       " 13,\n",
       " 13,\n",
       " 14,\n",
       " 18,\n",
       " 13,\n",
       " 14,\n",
       " 14,\n",
       " 13,\n",
       " 14,\n",
       " 14,\n",
       " 19,\n",
       " 12,\n",
       " 17,\n",
       " 12,\n",
       " 9,\n",
       " 19,\n",
       " 15,\n",
       " 17,\n",
       " 18,\n",
       " 19,\n",
       " 14,\n",
       " 14,\n",
       " 16,\n",
       " 14,\n",
       " 15,\n",
       " 13,\n",
       " 10,\n",
       " 13,\n",
       " 13,\n",
       " 15,\n",
       " 14,\n",
       " 12,\n",
       " 13,\n",
       " 16,\n",
       " 14,\n",
       " 17,\n",
       " 14,\n",
       " 13,\n",
       " 15,\n",
       " 11,\n",
       " 14,\n",
       " 11,\n",
       " 15,\n",
       " 13,\n",
       " 15,\n",
       " 12,\n",
       " 12,\n",
       " 20,\n",
       " 15,\n",
       " 11,\n",
       " 15,\n",
       " 15,\n",
       " 12,\n",
       " 14,\n",
       " 14,\n",
       " 14,\n",
       " 13,\n",
       " 12,\n",
       " 14,\n",
       " 16,\n",
       " 16,\n",
       " 36,\n",
       " 14,\n",
       " 17,\n",
       " 15,\n",
       " 15,\n",
       " 16,\n",
       " 14,\n",
       " 12,\n",
       " 12,\n",
       " 14,\n",
       " 17,\n",
       " 10,\n",
       " 19,\n",
       " 14,\n",
       " 13,\n",
       " 16,\n",
       " 17,\n",
       " 19,\n",
       " 12,\n",
       " 14,\n",
       " 11,\n",
       " 16,\n",
       " 17,\n",
       " 14,\n",
       " 9,\n",
       " 17,\n",
       " 17,\n",
       " 13,\n",
       " 11,\n",
       " 18,\n",
       " 12,\n",
       " 10,\n",
       " 14,\n",
       " 14,\n",
       " 16,\n",
       " 15,\n",
       " 12,\n",
       " 13,\n",
       " 14,\n",
       " 27,\n",
       " 14,\n",
       " 15,\n",
       " 12,\n",
       " 17,\n",
       " 14,\n",
       " 15,\n",
       " 14,\n",
       " 14,\n",
       " 13,\n",
       " 12,\n",
       " 15,\n",
       " 16,\n",
       " 14,\n",
       " 16,\n",
       " 13,\n",
       " 13,\n",
       " 18,\n",
       " 13,\n",
       " 12,\n",
       " 12,\n",
       " 13,\n",
       " 11,\n",
       " 16,\n",
       " 12,\n",
       " 14]"
      ]
     },
     "execution_count": 17,
     "metadata": {},
     "output_type": "execute_result"
    }
   ],
   "source": [
    "scores"
   ]
  },
  {
   "cell_type": "code",
   "execution_count": null,
   "id": "48774dbf-fcc8-4393-acac-a27e1e1aa6e2",
   "metadata": {},
   "outputs": [],
   "source": []
  }
 ],
 "metadata": {
  "kernelspec": {
   "display_name": "Python 3",
   "language": "python",
   "name": "python3"
  },
  "language_info": {
   "codemirror_mode": {
    "name": "ipython",
    "version": 3
   },
   "file_extension": ".py",
   "mimetype": "text/x-python",
   "name": "python",
   "nbconvert_exporter": "python",
   "pygments_lexer": "ipython3",
   "version": "3.8.8"
  }
 },
 "nbformat": 4,
 "nbformat_minor": 5
}
