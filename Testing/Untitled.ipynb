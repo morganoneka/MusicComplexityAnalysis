{
 "cells": [
  {
   "cell_type": "code",
   "execution_count": 1,
   "id": "830d1d11-919f-4de0-b968-47af222a3b14",
   "metadata": {},
   "outputs": [
    {
     "name": "stderr",
     "output_type": "stream",
     "text": [
      "/Users/morganoneka/Documents/PersonalProjects/UltimateGuitarAnalysis/music_functions.py:112: SyntaxWarning: \"is\" with a literal. Did you mean \"==\"?\n",
      "  if (flatorsharp is \"#\"):\n",
      "/Users/morganoneka/Documents/PersonalProjects/UltimateGuitarAnalysis/music_functions.py:115: SyntaxWarning: \"is\" with a literal. Did you mean \"==\"?\n",
      "  elif (flatorsharp is \"b\"):\n"
     ]
    }
   ],
   "source": [
    "import music_functions as mf"
   ]
  },
  {
   "cell_type": "code",
   "execution_count": 2,
   "id": "28ad06ce-aabb-43ae-bb21-16392be8a7f2",
   "metadata": {},
   "outputs": [
    {
     "data": {
      "text/plain": [
       "'ii'"
      ]
     },
     "execution_count": 2,
     "metadata": {},
     "output_type": "execute_result"
    }
   ],
   "source": [
    "mf.get_relation(\"C\", \"Dm\")"
   ]
  },
  {
   "cell_type": "code",
   "execution_count": 3,
   "id": "7bc75ac8-ad23-4785-af1c-27f97bb81e1f",
   "metadata": {},
   "outputs": [
    {
     "name": "stdout",
     "output_type": "stream",
     "text": [
      "Chord Note: D\n",
      "Notes in Key Sig: C D E F G A B\n"
     ]
    },
    {
     "data": {
      "text/plain": [
       "'II'"
      ]
     },
     "execution_count": 3,
     "metadata": {},
     "output_type": "execute_result"
    }
   ],
   "source": [
    "mf.get_relation(\"C\", \"D\")"
   ]
  },
  {
   "cell_type": "code",
   "execution_count": 4,
   "id": "580d24f4-55bc-4f4b-b26f-2d6cda2420f7",
   "metadata": {},
   "outputs": [
    {
     "name": "stdout",
     "output_type": "stream",
     "text": [
      "Chord Note: Bb\n",
      "Notes in Key Sig: C D E F G A B\n"
     ]
    },
    {
     "data": {
      "text/plain": [
       "'bVII'"
      ]
     },
     "execution_count": 4,
     "metadata": {},
     "output_type": "execute_result"
    }
   ],
   "source": [
    "mf.get_relation(\"C\", \"Bb\")"
   ]
  },
  {
   "cell_type": "code",
   "execution_count": 5,
   "id": "02369e06-d595-413c-bba2-fe673e86c33d",
   "metadata": {},
   "outputs": [
    {
     "data": {
      "text/plain": [
       "'VII'"
      ]
     },
     "execution_count": 5,
     "metadata": {},
     "output_type": "execute_result"
    }
   ],
   "source": [
    "mf.get_relation(\"Cm\", \"Bb\")"
   ]
  },
  {
   "cell_type": "code",
   "execution_count": 6,
   "id": "ab088dda-d757-4134-afc9-6d7fb136bdde",
   "metadata": {},
   "outputs": [
    {
     "name": "stdout",
     "output_type": "stream",
     "text": [
      "Chord Note: Bb\n",
      "Notes in Key Sig: C D E F G A B\n"
     ]
    },
    {
     "data": {
      "text/plain": [
       "'bVII'"
      ]
     },
     "execution_count": 6,
     "metadata": {},
     "output_type": "execute_result"
    }
   ],
   "source": [
    "mf.get_relation(\"C\", \"Bb\")"
   ]
  },
  {
   "cell_type": "code",
   "execution_count": 7,
   "id": "20933964-d9a8-47ed-bec4-7ed47c0649b0",
   "metadata": {},
   "outputs": [
    {
     "name": "stdout",
     "output_type": "stream",
     "text": [
      "Chord Note: B\n",
      "Notes in Key Sig: C D Eb F G Ab Bb\n"
     ]
    },
    {
     "data": {
      "text/plain": [
       "'bI'"
      ]
     },
     "execution_count": 7,
     "metadata": {},
     "output_type": "execute_result"
    }
   ],
   "source": [
    "mf.get_relation(\"Cm\", \"B\")"
   ]
  },
  {
   "cell_type": "code",
   "execution_count": 8,
   "id": "fc33f0c8-16e2-475f-81bb-9a1750ebff37",
   "metadata": {},
   "outputs": [
    {
     "name": "stdout",
     "output_type": "stream",
     "text": [
      "Chord Note: Db\n",
      "Notes in Key Sig: Bb C D Eb F G A\n"
     ]
    },
    {
     "data": {
      "text/plain": [
       "'bIII'"
      ]
     },
     "execution_count": 8,
     "metadata": {},
     "output_type": "execute_result"
    }
   ],
   "source": [
    "mf.get_relation(\"Bb\", \"C#\")"
   ]
  },
  {
   "cell_type": "code",
   "execution_count": 9,
   "id": "28b9401b-c328-4cb7-9db8-2fa31c73722c",
   "metadata": {},
   "outputs": [
    {
     "name": "stdout",
     "output_type": "stream",
     "text": [
      "Chord Note: Db\n",
      "Notes in Key Sig: Bb C D Eb F G A\n"
     ]
    },
    {
     "data": {
      "text/plain": [
       "'biii'"
      ]
     },
     "execution_count": 9,
     "metadata": {},
     "output_type": "execute_result"
    }
   ],
   "source": [
    "mf.get_relation(\"Bb\", \"C#m\")"
   ]
  },
  {
   "cell_type": "code",
   "execution_count": 10,
   "id": "ada351fb-dc43-4642-9587-bb8076d71107",
   "metadata": {},
   "outputs": [
    {
     "name": "stdout",
     "output_type": "stream",
     "text": [
      "Chord Note: Gb\n",
      "Notes in Key Sig: Bb C Db Eb F Gb Ab\n"
     ]
    },
    {
     "data": {
      "text/plain": [
       "'vi'"
      ]
     },
     "execution_count": 10,
     "metadata": {},
     "output_type": "execute_result"
    }
   ],
   "source": [
    "mf.get_relation(\"Bbm\", \"F#m\")"
   ]
  },
  {
   "cell_type": "code",
   "execution_count": 11,
   "id": "238ef925-a218-422b-b8d4-22a3c49eb199",
   "metadata": {},
   "outputs": [
    {
     "data": {
      "text/plain": [
       "'III'"
      ]
     },
     "execution_count": 11,
     "metadata": {},
     "output_type": "execute_result"
    }
   ],
   "source": [
    "mf.get_relation(\"Bbm\", \"Db\")"
   ]
  },
  {
   "cell_type": "code",
   "execution_count": 14,
   "id": "e7593ae8-d71c-46dc-a2e9-038f9a98884f",
   "metadata": {},
   "outputs": [
    {
     "data": {
      "text/plain": [
       "'ii°'"
      ]
     },
     "execution_count": 14,
     "metadata": {},
     "output_type": "execute_result"
    }
   ],
   "source": [
    "mf.get_relation(\"Bbm\", \"Cdim\")"
   ]
  },
  {
   "cell_type": "code",
   "execution_count": null,
   "id": "120a1b16-564f-4132-90a7-21a8349e3157",
   "metadata": {},
   "outputs": [],
   "source": []
  }
 ],
 "metadata": {
  "kernelspec": {
   "display_name": "Python 3",
   "language": "python",
   "name": "python3"
  },
  "language_info": {
   "codemirror_mode": {
    "name": "ipython",
    "version": 3
   },
   "file_extension": ".py",
   "mimetype": "text/x-python",
   "name": "python",
   "nbconvert_exporter": "python",
   "pygments_lexer": "ipython3",
   "version": "3.8.8"
  }
 },
 "nbformat": 4,
 "nbformat_minor": 5
}
